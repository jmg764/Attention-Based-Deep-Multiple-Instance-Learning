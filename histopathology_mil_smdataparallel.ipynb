{
  "nbformat": 4,
  "nbformat_minor": 0,
  "metadata": {
    "colab": {
      "name": "histopathology_mil_smdataparallel.ipynb",
      "provenance": []
    },
    "kernelspec": {
      "name": "python3",
      "display_name": "Python 3"
    },
    "language_info": {
      "name": "python"
    }
  },
  "cells": [
    {
      "cell_type": "code",
      "metadata": {
        "id": "hMdqjXM61a-9"
      },
      "source": [
        "!pip install sagemaker --upgrade"
      ],
      "execution_count": null,
      "outputs": []
    },
    {
      "cell_type": "code",
      "metadata": {
        "id": "54NwFLHm1fhd"
      },
      "source": [
        "import sagemaker\n",
        "\n",
        "sagemaker_session = sagemaker.Session()\n",
        "role = sagemaker.get_execution_role()"
      ],
      "execution_count": null,
      "outputs": []
    },
    {
      "cell_type": "code",
      "metadata": {
        "id": "MQQC-m703UqR"
      },
      "source": [
        "import uuid\n",
        "\n",
        "bucket = sagemaker_session.default_bucket()\n",
        "checkpoint_suffix = str(uuid.uuid4())[:8]\n",
        "checkpoint_s3_path = 's3://{}/checkpoint-{}'.format(bucket, checkpoint_suffix)\n",
        "\n",
        "print('Checkpointing Path: {}'.format(checkpoint_s3_path))"
      ],
      "execution_count": null,
      "outputs": []
    },
    {
      "cell_type": "code",
      "metadata": {
        "id": "m7isSuHD1iS1"
      },
      "source": [
        "!pygmentize train.py"
      ],
      "execution_count": null,
      "outputs": []
    },
    {
      "cell_type": "code",
      "metadata": {
        "id": "7Xqn4sCU4P5L"
      },
      "source": [
        "use_spot_instances = True\n",
        "max_run=600\n",
        "max_wait = 1200 if use_spot_instances else None"
      ],
      "execution_count": null,
      "outputs": []
    },
    {
      "cell_type": "code",
      "metadata": {
        "id": "eCmOiMC11lc0"
      },
      "source": [
        "from sagemaker.pytorch import PyTorch\n",
        "estimator = PyTorch(base_job_name='pytorch-smdataparallel-histopathology-mil',\n",
        "                        entry_point='train.py',\n",
        "                        role=role,\n",
        "                        framework_version='1.8.0',\n",
        "                        py_version='py36',\n",
        "                        # For training with multinode distributed training, set this count. Example: 2\n",
        "                        instance_count=2,\n",
        "                        # For training with p3dn instance use - ml.p3dn.24xlarge, with p4dn instance use - ml.p4d.24xlarge\n",
        "                        instance_type= 'ml.p3.16xlarge',\n",
        "                        sagemaker_session=sagemaker_session,\n",
        "                        # Training using SMDataParallel Distributed Training Framework\n",
        "                        distribution={'smdistributed':{\n",
        "                                            'dataparallel':{\n",
        "                                                    'enabled': True\n",
        "                                                 }\n",
        "                                          }\n",
        "                                      },\n",
        "                        checkpoint_s3_uri=checkpoint_s3_path,\n",
        "                        debugger_hook_config=False,\n",
        "                        use_spot_instances=use_spot_instances,\n",
        "                        max_run=max_run,\n",
        "                        max_wait=max_wait)"
      ],
      "execution_count": null,
      "outputs": []
    },
    {
      "cell_type": "code",
      "metadata": {
        "id": "jyVSqa2-10fZ"
      },
      "source": [
        "estimator.fit()"
      ],
      "execution_count": null,
      "outputs": []
    }
  ]
}
