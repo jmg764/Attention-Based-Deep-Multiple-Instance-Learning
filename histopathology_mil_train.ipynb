{
  "nbformat": 4,
  "nbformat_minor": 0,
  "metadata": {
    "colab": {
      "name": "histopathology_mil_train.ipynb",
      "provenance": [],
      "collapsed_sections": []
    },
    "kernelspec": {
      "name": "python3",
      "display_name": "Python 3"
    },
    "language_info": {
      "name": "python"
    }
  },
  "cells": [
    {
      "cell_type": "code",
      "metadata": {
        "id": "91Z1sh2Tvp0n"
      },
      "source": [
        "!pip install sagemaker --upgrade"
      ],
      "execution_count": null,
      "outputs": []
    },
    {
      "cell_type": "code",
      "metadata": {
        "id": "54NwFLHm1fhd"
      },
      "source": [
        "import sagemaker\n",
        "\n",
        "sagemaker_session = sagemaker.Session()\n",
        "role = sagemaker.get_execution_role()"
      ],
      "execution_count": null,
      "outputs": []
    },
    {
      "cell_type": "code",
      "metadata": {
        "id": "eCmOiMC11lc0"
      },
      "source": [
        "from sagemaker.pytorch import PyTorch\n",
        "estimator = PyTorch(base_job_name='pytorch-smdataparallel-histopathology-mil',\n",
        "                        source_dir='code',\n",
        "                        entry_point='train.py',\n",
        "                        role=role,\n",
        "                        framework_version='1.8.1',\n",
        "                        py_version='py36',\n",
        "                        instance_count=2,\n",
        "                        instance_type= 'ml.p3.16xlarge',\n",
        "                        sagemaker_session=sagemaker_session,\n",
        "                        distribution={'smdistributed':{\n",
        "                                            'dataparallel':{\n",
        "                                                    'enabled': True\n",
        "                                                 }\n",
        "                                          }\n",
        "                                      },\n",
        "                        debugger_hook_config=False,\n",
        "                        volume_size=40)"
      ],
      "execution_count": null,
      "outputs": []
    },
    {
      "cell_type": "code",
      "metadata": {
        "id": "RWv47F7WfPKV"
      },
      "source": [
        "channels = {\n",
        "    'training': 's3://sagemaker-us-east-1-318322629142/train/',\n",
        "    'testing': 's3://sagemaker-us-east-1-318322629142/test/'\n",
        "}"
      ],
      "execution_count": null,
      "outputs": []
    },
    {
      "cell_type": "code",
      "metadata": {
        "id": "Yq_dA5ArvI_r"
      },
      "source": [
        "estimator.fit(inputs=channels)"
      ],
      "execution_count": null,
      "outputs": []
    }
  ]
}